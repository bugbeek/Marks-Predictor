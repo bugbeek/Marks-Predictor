{
 "cells": [
  {
   "cell_type": "code",
   "execution_count": 1,
   "id": "c02e5732",
   "metadata": {},
   "outputs": [
    {
     "name": "stdout",
     "output_type": "stream",
     "text": [
      "Predicted marks based on hourse of study is 83.1\n"
     ]
    },
    {
     "name": "stderr",
     "output_type": "stream",
     "text": [
      "c:\\Users\\singh\\AppData\\Local\\Programs\\Python\\Python37\\lib\\site-packages\\sklearn\\base.py:451: UserWarning: X does not have valid feature names, but LinearRegression was fitted with feature names\n",
      "  \"X does not have valid feature names, but\"\n"
     ]
    }
   ],
   "source": [
    "import numpy as np\n",
    "import pandas as pd\n",
    "from sklearn.model_selection import train_test_split\n",
    "from sklearn.linear_model import LinearRegression\n",
    "\n",
    "dataset = {'hours_study':[3,4,5,6,7,8,9,10],'marks_scored':[60,70,75,82,85,87,92,95]}\n",
    "df = pd.DataFrame(dataset)\n",
    "\n",
    "#feature selection\n",
    "\n",
    "X = df[['hours_study']]\n",
    "y = df[['marks_scored']]\n",
    "\n",
    "#step 5\n",
    "X_train,X_test,y_train,y_test = train_test_split(X, y, test_size = 0.2, random_state = 42)\n",
    "\n",
    "# inititate the model\n",
    "model = LinearRegression()\n",
    "\n",
    "#fit model\n",
    "model.fit(X_train,y_train)\n",
    "\n",
    "user_input = float(input(\"Please enter the hours to study :\"))\n",
    "\n",
    "#prediction\n",
    "predicted_score = model.predict([[user_input]])\n",
    "\n",
    "print(\"Predicted marks based on hourse of study is\", predicted_score[0][0])\n",
    "\n"
   ]
  }
 ],
 "metadata": {
  "kernelspec": {
   "display_name": "Python 3 (ipykernel)",
   "language": "python",
   "name": "python3"
  },
  "language_info": {
   "codemirror_mode": {
    "name": "ipython",
    "version": 3
   },
   "file_extension": ".py",
   "mimetype": "text/x-python",
   "name": "python",
   "nbconvert_exporter": "python",
   "pygments_lexer": "ipython3",
   "version": "3.7.9"
  }
 },
 "nbformat": 4,
 "nbformat_minor": 5
}
